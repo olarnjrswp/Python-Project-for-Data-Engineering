{
 "cells": [
  {
   "cell_type": "markdown",
   "metadata": {},
   "source": [
    "<center>\n",
    "    <img src=\"https://gitlab.com/ibm/skills-network/courses/placeholder101/-/raw/master/labs/module%201/images/IDSNlogo.png\" width=\"300\" alt=\"cognitiveclass.ai logo\"  />\n",
    "</center>\n"
   ]
  },
  {
   "cell_type": "markdown",
   "metadata": {},
   "source": [
    "# Peer Review Assignment - Data Engineer - Extract API Data\n"
   ]
  },
  {
   "cell_type": "markdown",
   "metadata": {},
   "source": [
    "Estimated time needed: **20** minutes\n"
   ]
  },
  {
   "cell_type": "markdown",
   "metadata": {},
   "source": [
    "## Objectives\n",
    "\n",
    "In this part you will:\n",
    "\n",
    "-   Collect exchange rate data using an API\n",
    "-   Store the data as a CSV\n"
   ]
  },
  {
   "cell_type": "markdown",
   "metadata": {},
   "source": [
    "For this lab, we are going to be using Python and several Python libraries. Some of these libraries might be installed in your lab environment or in SN Labs. Others may need to be installed by you. The cells below will install these libraries when executed.\n"
   ]
  },
  {
   "cell_type": "code",
   "execution_count": null,
   "metadata": {},
   "outputs": [],
   "source": [
    "#!pip install pandas\n",
    "#!pip install requests"
   ]
  },
  {
   "cell_type": "markdown",
   "metadata": {},
   "source": [
    "## Imports\n",
    "\n",
    "Import any additional libraries you may need here.\n"
   ]
  },
  {
   "cell_type": "code",
   "execution_count": 11,
   "metadata": {},
   "outputs": [],
   "source": [
    "import requests\n",
    "import pandas as pd"
   ]
  },
  {
   "cell_type": "markdown",
   "metadata": {},
   "source": [
    "## Extract Data Using an API\n"
   ]
  },
  {
   "cell_type": "markdown",
   "metadata": {},
   "source": [
    "Using ExchangeRate-API we will extract currency exchange rate data. Use the below steps to get the access key and to get the data. \n",
    "\n",
    "1.  Open the url : [https://api.exchangeratesapi.io/](https://api.exchangeratesapi.io?cm_mmc=Email_Newsletter-_-Developer_Ed%2BTech-_-WW_WW-_-SkillsNetwork-Courses-IBMDeveloperSkillsNetwork-PY0221EN-SkillsNetwork-23455645&cm_mmca1=000026UJ&cm_mmca2=10006555&cm_mmca3=M12345678&cvosrc=email.Newsletter.M12345678&cvo_campaign=000026UJ&cm_mmc=Email_Newsletter-_-Developer_Ed%2BTech-_-WW_WW-_-SkillsNetwork-Courses-IBMDeveloperSkillsNetwork-PY0221EN-SkillsNetwork-23455645&cm_mmca1=000026UJ&cm_mmca2=10006555&cm_mmca3=M12345678&cvosrc=email.Newsletter.M12345678&cvo_campaign=000026UJ) and create a free account. \n",
    "2.  Once the account is created. You will get the Get the Free API key option on the top as shown below:\n",
    "\n",
    "<img src=\"https://cf-courses-data.s3.us.cloud-object-storage.appdomain.cloud/IBMDeveloperSkillsNetwork-PY0221EN-SkillsNetwork/labs/module%206/Final%20Assignment/Images/getapi.png\"/>\n",
    "\n",
    "3.  Copy the API key and use in the url in Question 1.\n"
   ]
  },
  {
   "cell_type": "markdown",
   "metadata": {},
   "source": [
    "### Call the API\n",
    "\n",
    " <b> Question 1</b> Using the `requests` library call the endpoint given above and save the text, remember the first few characters of the output: \n"
   ]
  },
  {
   "cell_type": "code",
   "execution_count": 6,
   "metadata": {},
   "outputs": [],
   "source": [
    "# Write your code here\n",
    "url = \"http://api.exchangeratesapi.io/v1/latest?access_key=ee2068a71574e927279be8bc6843be51\" \n"
   ]
  },
  {
   "cell_type": "markdown",
   "metadata": {},
   "source": [
    "### Save as DataFrame\n",
    "\n",
    " <b> Question 2</b>  Using the data gathered turn it into a `pandas` dataframe. The dataframe should have the Currency as the index and `Rate` as their columns. Make sure to drop unnecessary columns.\n"
   ]
  },
  {
   "cell_type": "code",
   "execution_count": 7,
   "metadata": {},
   "outputs": [
    {
     "name": "stdout",
     "output_type": "stream",
     "text": [
      "{'success': True, 'timestamp': 1624990624, 'base': 'EUR', 'date': '2021-06-29', 'rates': {'AED': 4.371511, 'AFN': 94.615993, 'ALL': 122.587549, 'AMD': 589.575537, 'ANG': 2.137005, 'AOA': 769.188841, 'ARS': 113.898114, 'AUD': 1.583464, 'AWG': 2.142904, 'AZN': 2.01544, 'BAM': 1.955668, 'BBD': 2.403781, 'BDT': 101.014497, 'BGN': 1.958118, 'BHD': 0.448721, 'BIF': 2362.490553, 'BMD': 1.190172, 'BND': 1.600088, 'BOB': 8.23235, 'BRL': 5.86957, 'BSD': 1.190492, 'BTC': 3.2831117e-05, 'BTN': 88.415344, 'BWP': 13.011124, 'BYN': 3.012551, 'BYR': 23327.362639, 'BZD': 2.399702, 'CAD': 1.474117, 'CDF': 2378.559734, 'CHF': 1.095913, 'CLF': 0.031824, 'CLP': 878.110861, 'CNY': 7.693507, 'COP': 4483.971364, 'CRC': 737.399011, 'CUC': 1.190172, 'CUP': 31.539546, 'CVE': 112.445713, 'CZK': 25.503048, 'DJF': 211.51687, 'DKK': 7.436308, 'DOP': 67.970551, 'DZD': 159.631129, 'EGP': 18.644872, 'ERN': 17.854953, 'ETB': 52.012645, 'EUR': 1, 'FJD': 2.457685, 'FKP': 0.843645, 'GBP': 0.859363, 'GEL': 3.766849, 'GGP': 0.843645, 'GHS': 6.968392, 'GIP': 0.843645, 'GMD': 60.798843, 'GNF': 11711.287784, 'GTQ': 9.226537, 'GYD': 248.847327, 'HKD': 9.240195, 'HNL': 28.564313, 'HRK': 7.495577, 'HTG': 111.312858, 'HUF': 352.16106, 'IDR': 17334.432258, 'ILS': 3.872902, 'IMP': 0.843645, 'INR': 88.368573, 'IQD': 1738.245568, 'IRR': 50112.173403, 'ISK': 147.095139, 'JEP': 0.843645, 'JMD': 179.766621, 'JOD': 0.843815, 'JPY': 131.518746, 'KES': 128.36019, 'KGS': 100.764667, 'KHR': 4863.04153, 'KMF': 492.314563, 'KPW': 1071.154824, 'KRW': 1346.964581, 'KWD': 0.357944, 'KYD': 0.99211, 'KZT': 510.427784, 'LAK': 11292.34778, 'LBP': 1819.062421, 'LKR': 237.509054, 'LRD': 204.120328, 'LSL': 17.150951, 'LTL': 3.514267, 'LVL': 0.719923, 'LYD': 5.361711, 'MAD': 10.602641, 'MDL': 21.381632, 'MGA': 4570.799936, 'MKD': 61.609904, 'MMK': 1959.598558, 'MNT': 3387.226215, 'MOP': 9.520153, 'MRO': 424.891043, 'MUR': 50.583667, 'MVR': 18.269538, 'MWK': 958.088122, 'MXN': 23.557744, 'MYR': 4.941, 'MZN': 75.444735, 'NAD': 17.054874, 'NGN': 489.769127, 'NIO': 41.966029, 'NOK': 10.187041, 'NPR': 141.465894, 'NZD': 1.701701, 'OMR': 0.458204, 'PAB': 1.190492, 'PEN': 4.625605, 'PGK': 4.180478, 'PHP': 57.947047, 'PKR': 188.529503, 'PLN': 4.520093, 'PYG': 8028.168552, 'QAR': 4.333443, 'RON': 4.928383, 'RSD': 117.595274, 'RUB': 86.600456, 'RWF': 1173.509161, 'SAR': 4.463887, 'SBD': 9.53285, 'SCR': 19.588255, 'SDG': 537.957438, 'SEK': 10.143207, 'SGD': 1.601072, 'SHP': 0.843645, 'SLL': 12199.258575, 'SOS': 696.250732, 'SRD': 24.810917, 'STD': 24289.611739, 'SVC': 10.417138, 'SYP': 1497.047418, 'SZL': 17.055495, 'THB': 38.179939, 'TJS': 13.577877, 'TMT': 4.177502, 'TND': 3.294994, 'TOP': 2.671281, 'TRY': 10.399483, 'TTD': 8.088863, 'TWD': 33.243273, 'TZS': 2760.008341, 'UAH': 32.356624, 'UGX': 4228.750248, 'USD': 1.190172, 'UYU': 51.781282, 'UZS': 12615.818491, 'VEF': 254494649986.10217, 'VND': 27400.724814, 'VUV': 129.063161, 'WST': 3.001581, 'XAF': 655.905507, 'XAG': 0.046111, 'XAU': 0.000675, 'XCD': 3.216498, 'XDR': 0.833335, 'XOF': 655.189848, 'XPF': 119.614134, 'YER': 297.840762, 'ZAR': 17.075974, 'ZMK': 10712.980831, 'ZMW': 26.96817, 'ZWL': 383.235638}}\n"
     ]
    }
   ],
   "source": [
    "# Turn the data into a dataframe\n",
    "response = requests.get(url)\n",
    "data = response.json()"
   ]
  },
  {
   "cell_type": "code",
   "execution_count": 18,
   "metadata": {},
   "outputs": [
    {
     "data": {
      "text/html": [
       "<div>\n",
       "<style scoped>\n",
       "    .dataframe tbody tr th:only-of-type {\n",
       "        vertical-align: middle;\n",
       "    }\n",
       "\n",
       "    .dataframe tbody tr th {\n",
       "        vertical-align: top;\n",
       "    }\n",
       "\n",
       "    .dataframe thead th {\n",
       "        text-align: right;\n",
       "    }\n",
       "</style>\n",
       "<table border=\"1\" class=\"dataframe\">\n",
       "  <thead>\n",
       "    <tr style=\"text-align: right;\">\n",
       "      <th></th>\n",
       "      <th>rates</th>\n",
       "    </tr>\n",
       "  </thead>\n",
       "  <tbody>\n",
       "    <tr>\n",
       "      <th>AED</th>\n",
       "      <td>4.371511</td>\n",
       "    </tr>\n",
       "    <tr>\n",
       "      <th>AFN</th>\n",
       "      <td>94.615993</td>\n",
       "    </tr>\n",
       "    <tr>\n",
       "      <th>ALL</th>\n",
       "      <td>122.587549</td>\n",
       "    </tr>\n",
       "    <tr>\n",
       "      <th>AMD</th>\n",
       "      <td>589.575537</td>\n",
       "    </tr>\n",
       "    <tr>\n",
       "      <th>ANG</th>\n",
       "      <td>2.137005</td>\n",
       "    </tr>\n",
       "    <tr>\n",
       "      <th>...</th>\n",
       "      <td>...</td>\n",
       "    </tr>\n",
       "    <tr>\n",
       "      <th>YER</th>\n",
       "      <td>297.840762</td>\n",
       "    </tr>\n",
       "    <tr>\n",
       "      <th>ZAR</th>\n",
       "      <td>17.075974</td>\n",
       "    </tr>\n",
       "    <tr>\n",
       "      <th>ZMK</th>\n",
       "      <td>10712.980831</td>\n",
       "    </tr>\n",
       "    <tr>\n",
       "      <th>ZMW</th>\n",
       "      <td>26.968170</td>\n",
       "    </tr>\n",
       "    <tr>\n",
       "      <th>ZWL</th>\n",
       "      <td>383.235638</td>\n",
       "    </tr>\n",
       "  </tbody>\n",
       "</table>\n",
       "<p>168 rows × 1 columns</p>\n",
       "</div>"
      ],
      "text/plain": [
       "            rates\n",
       "AED      4.371511\n",
       "AFN     94.615993\n",
       "ALL    122.587549\n",
       "AMD    589.575537\n",
       "ANG      2.137005\n",
       "..            ...\n",
       "YER    297.840762\n",
       "ZAR     17.075974\n",
       "ZMK  10712.980831\n",
       "ZMW     26.968170\n",
       "ZWL    383.235638\n",
       "\n",
       "[168 rows x 1 columns]"
      ]
     },
     "execution_count": 18,
     "metadata": {},
     "output_type": "execute_result"
    }
   ],
   "source": [
    "df=pd.DataFrame(data, columns=['rates'])\n",
    "df"
   ]
  },
  {
   "cell_type": "markdown",
   "metadata": {},
   "source": [
    "### Load the Data\n",
    "\n",
    "Using the dataframe save it as a CSV names `exchange_rates_1.csv`.\n"
   ]
  },
  {
   "cell_type": "code",
   "execution_count": 20,
   "metadata": {},
   "outputs": [],
   "source": [
    "# Save the Dataframe\n",
    "df.to_csv(\"exchange_rates_1.csv\")"
   ]
  },
  {
   "cell_type": "markdown",
   "metadata": {},
   "source": [
    "Your CSV should be in this format with more currencies\n",
    "\n",
    "|     | Rates      |\n",
    "| --- | ---------- |\n",
    "| AED | 4.398618   |\n",
    "| AFN | 92.917693  |\n",
    "| ALL | 123.099093 |\n",
    "| AMD | 621.935674 |\n",
    "| ANG | 2.149648   |\n"
   ]
  },
  {
   "cell_type": "markdown",
   "metadata": {},
   "source": [
    "## Authors\n"
   ]
  },
  {
   "cell_type": "markdown",
   "metadata": {},
   "source": [
    "Ramesh Sannareddy, Joseph Santarcangelo and Azim Hirjani\n"
   ]
  },
  {
   "cell_type": "markdown",
   "metadata": {},
   "source": [
    "### Other Contributors\n"
   ]
  },
  {
   "cell_type": "markdown",
   "metadata": {},
   "source": [
    "Rav Ahuja\n"
   ]
  },
  {
   "cell_type": "markdown",
   "metadata": {},
   "source": [
    "## Change Log\n"
   ]
  },
  {
   "cell_type": "markdown",
   "metadata": {},
   "source": [
    "| Date (YYYY-MM-DD) | Version | Changed By        | Change Description                 |\n",
    "| ----------------- | ------- | ----------------- | ---------------------------------- |\n",
    "| 2021-04-15        | 0.2     | Malika            | Updated the lab from USD to EUR    |\n",
    "| 2020-11-25        | 0.1     | Ramesh Sannareddy | Created initial version of the lab |\n"
   ]
  },
  {
   "cell_type": "markdown",
   "metadata": {},
   "source": [
    " Copyright © 2020 IBM Corporation. This notebook and its source code are released under the terms of the [MIT License](https://cognitiveclass.ai/mit-license?cm_mmc=Email_Newsletter-_-Developer_Ed%2BTech-_-WW_WW-_-SkillsNetwork-Courses-IBM-DA0321EN-SkillsNetwork-21426264&cm_mmca1=000026UJ&cm_mmca2=10006555&cm_mmca3=M12345678&cvosrc=email.Newsletter.M12345678&cvo_campaign=000026UJ&cm_mmc=Email_Newsletter-_-Developer_Ed%2BTech-_-WW_WW-_-SkillsNetwork-Courses-IBM-DA0321EN-SkillsNetwork-21426264&cm_mmca1=000026UJ&cm_mmca2=10006555&cm_mmca3=M12345678&cvosrc=email.Newsletter.M12345678&cvo_campaign=000026UJ&cm_mmc=Email_Newsletter-_-Developer_Ed%2BTech-_-WW_WW-_-SkillsNetwork-Courses-IBM-DA0321EN-SkillsNetwork-21426264&cm_mmca1=000026UJ&cm_mmca2=10006555&cm_mmca3=M12345678&cvosrc=email.Newsletter.M12345678&cvo_campaign=000026UJ&cm_mmc=Email_Newsletter-_-Developer_Ed%2BTech-_-WW_WW-_-SkillsNetwork-Courses-IBM-DA0321EN-SkillsNetwork-21426264&cm_mmca1=000026UJ&cm_mmca2=10006555&cm_mmca3=M12345678&cvosrc=email.Newsletter.M12345678&cvo_campaign=000026UJ&cm_mmc=Email_Newsletter-_-Developer_Ed%2BTech-_-WW_WW-_-SkillsNetwork-Courses-IBMDeveloperSkillsNetwork-PY0221EN-SkillsNetwork-23455645&cm_mmca1=000026UJ&cm_mmca2=10006555&cm_mmca3=M12345678&cvosrc=email.Newsletter.M12345678&cvo_campaign=000026UJ&cm_mmc=Email_Newsletter-_-Developer_Ed%2BTech-_-WW_WW-_-SkillsNetwork-Courses-IBMDeveloperSkillsNetwork-PY0221EN-SkillsNetwork-23455645&cm_mmca1=000026UJ&cm_mmca2=10006555&cm_mmca3=M12345678&cvosrc=email.Newsletter.M12345678&cvo_campaign=000026UJ).\n"
   ]
  }
 ],
 "metadata": {
  "kernelspec": {
   "display_name": "Python",
   "language": "python",
   "name": "conda-env-python-py"
  },
  "language_info": {
   "codemirror_mode": {
    "name": "ipython",
    "version": 3
   },
   "file_extension": ".py",
   "mimetype": "text/x-python",
   "name": "python",
   "nbconvert_exporter": "python",
   "pygments_lexer": "ipython3",
   "version": "3.6.13"
  }
 },
 "nbformat": 4,
 "nbformat_minor": 4
}
